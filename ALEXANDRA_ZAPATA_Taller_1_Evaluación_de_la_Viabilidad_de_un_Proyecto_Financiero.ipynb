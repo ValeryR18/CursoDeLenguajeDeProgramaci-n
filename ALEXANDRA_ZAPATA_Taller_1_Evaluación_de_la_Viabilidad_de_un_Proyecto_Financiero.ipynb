{
  "nbformat": 4,
  "nbformat_minor": 0,
  "metadata": {
    "colab": {
      "provenance": []
    },
    "kernelspec": {
      "name": "python3",
      "display_name": "Python 3"
    },
    "language_info": {
      "name": "python"
    }
  },
  "cells": [
    {
      "cell_type": "markdown",
      "source": [
        "# Evaluación de la Viabilidad de un Proyecto Financiero\n",
        "\n",
        "Eres un analista nanciero trabajando en una empresa que está considerando invertir en un nuevo proyecto. Para decidir si el proyecto es viable, se te ha pedido calcular el Valor Presente Neto (VPN) del proyecto usando Python en Google Colab. Este cálculo te permitirá saber si los ujos de caja futuros del\n",
        "proyecto, descontados al valor presente, superan la inversión inicial.\n",
        "\n",
        "- - -"
      ],
      "metadata": {
        "id": "BT6qVat26oM_"
      }
    },
    {
      "cell_type": "markdown",
      "source": [
        "# Valor Presente Neto (VPN)\n",
        "\n",
        "El Valor Presente Neto (VPN) es un criterio financiero utilizado para evaluar la rentabilidad de un proyecto o inversión.\n",
        "Se basa en el principio de que un dólar hoy vale más que un dólar en el futuro debido al potencial de ganancias.\n",
        "El VPN calcula la diferencia entre el valor presente de los flujos de caja futuros generados por la inversión y la inversión inicial."
      ],
      "metadata": {
        "id": "nu-6mFKZ7r-c"
      }
    },
    {
      "cell_type": "markdown",
      "source": [
        "## Fórmula del Valor Presente Neto (VPN)\n",
        "La fórmula del VPN se expresa de la siguiente manera:\n",
        "\n",
        "\\[\n",
        "$$\n",
        "VPN = \\sum_{t=0}^{n} \\frac{C_t}{(1+r)^t} - C_0\n",
        "$$|\n",
        "\n",
        "\\]\n",
        "\n",
        "Donde:\n",
        "- \\(C_t\\) es el flujo de caja en el tiempo \\(t\\).\n",
        "- \\(r\\) es la tasa de descuento.\n",
        "- \\(n\\) es el número total de periodos.\n",
        "- \\(C_0\\) es la inversión inicial.\n",
        "\n",
        "## Interpretación\n",
        "\n",
        "- Si \\(VPN > 0\\), la inversión es rentable.\n",
        "- Si \\(VPN < 0\\), la inversión no es rentable.\n",
        "- Si \\(VPN = 0\\), la inversión no genera ni pérdidas ni ganancias."
      ],
      "metadata": {
        "id": "MdFZAHxy8HbI"
      }
    },
    {
      "cell_type": "markdown",
      "source": [
        "### Descripción del proyecto\n",
        "\n",
        "Supongamos que la empresa está considerando un proyecto con una inversión inicial de 10.000 y espera recibir flujos de caja de 3.000 en cada uno de los próximos años. La tasa de descuento es del 5%.\n"
      ],
      "metadata": {
        "id": "h_6O5NaK89PF"
      }
    },
    {
      "cell_type": "markdown",
      "source": [
        "### Declaración de variables"
      ],
      "metadata": {
        "id": "uRAsfI2I-pkj"
      }
    },
    {
      "cell_type": "code",
      "source": [
        "inversion_inicial = 20000\n",
        "flujo_ano_1 = 6000\n",
        "flujo_ano_2 = 6000\n",
        "flujo_ano_3 = 6000\n",
        "tasa_descuento = 0.8"
      ],
      "metadata": {
        "id": "3609Ai4y-oPL"
      },
      "execution_count": 1,
      "outputs": []
    },
    {
      "cell_type": "markdown",
      "source": [
        "### Cálculo del VPN"
      ],
      "metadata": {
        "id": "LPLPwtEo-7wV"
      }
    },
    {
      "cell_type": "code",
      "source": [
        "vpn = (flujo_ano_1 / (1 + tasa_descuento)**1) + \\\n",
        "      (flujo_ano_2 / (1 + tasa_descuento)**2) + \\\n",
        "      (flujo_ano_3 / (1 + tasa_descuento)**3) - inversion_inicial\n",
        "\n",
        "print(\"El Valor Presente Neto (VPN) es: \", vpn)"
      ],
      "metadata": {
        "colab": {
          "base_uri": "https://localhost:8080/"
        },
        "id": "AKafLMP--6py",
        "outputId": "0940e13b-4b5a-4b9d-a3f5-bbe643460fe7"
      },
      "execution_count": null,
      "outputs": [
        {
          "output_type": "stream",
          "name": "stdout",
          "text": [
            "El Valor Presente Neto (VPN) es:  -5777.777777777778\n"
          ]
        }
      ]
    },
    {
      "cell_type": "markdown",
      "source": [
        "### Interpretación de Resultado"
      ],
      "metadata": {
        "id": "AxzR_5lf_ihw"
      }
    },
    {
      "cell_type": "code",
      "source": [
        "if (vpn > 0):\n",
        "  print(\"El proyecto es viable, ya que el VPN es positivo\")\n",
        "else:\n",
        "  print(\"El proyecto no es viable, ya que el VPN es negativo\")"
      ],
      "metadata": {
        "colab": {
          "base_uri": "https://localhost:8080/"
        },
        "id": "bC5RfZIG_lUq",
        "outputId": "ce06fb6d-5496-4cc1-f146-3c71e7a3d47d"
      },
      "execution_count": null,
      "outputs": [
        {
          "output_type": "stream",
          "name": "stdout",
          "text": [
            "El proyecto no es viable, ya que el VPN es negativo\n"
          ]
        }
      ]
    }
  ]
}