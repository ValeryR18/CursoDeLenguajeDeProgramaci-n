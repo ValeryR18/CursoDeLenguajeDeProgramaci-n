{
  "nbformat": 4,
  "nbformat_minor": 0,
  "metadata": {
    "colab": {
      "provenance": []
    },
    "kernelspec": {
      "name": "python3",
      "display_name": "Python 3"
    },
    "language_info": {
      "name": "python"
    }
  },
  "cells": [
    {
      "cell_type": "markdown",
      "source": [
        "# **Taller Gestión de Portafolios Financieros**"
      ],
      "metadata": {
        "id": "Rblkezx6PxbX"
      }
    },
    {
      "cell_type": "markdown",
      "source": [
        "##**Parte 1: Declaración de Variables y Listas**"
      ],
      "metadata": {
        "id": "1meqamZsQFYs"
      }
    },
    {
      "cell_type": "code",
      "source": [
        "clientes=[\"Juan Perez\",\"Maria Rodriguez\",\"Carlos Lopez\",\"Ana Gomez\"]\n",
        "montos_invertidos=[10000,15000,20000,18000]\n",
        "rendimientos=[5.5,6.0,4.0,7.5]"
      ],
      "metadata": {
        "id": "-ezWkhXlRJ1R"
      },
      "execution_count": null,
      "outputs": []
    },
    {
      "cell_type": "markdown",
      "source": [
        "### **Tuplas:**"
      ],
      "metadata": {
        "id": "DmuyvpinSlZf"
      }
    },
    {
      "cell_type": "code",
      "source": [
        "cliente_1=(\"Juan Perez\",10000,5.5)\n",
        "cliente_1"
      ],
      "metadata": {
        "colab": {
          "base_uri": "https://localhost:8080/"
        },
        "id": "7MD6EbopSqQy",
        "outputId": "08ce1469-ec5f-47e5-a5f5-a7f934b9f826"
      },
      "execution_count": null,
      "outputs": [
        {
          "output_type": "execute_result",
          "data": {
            "text/plain": [
              "('Juan Perez', 10000, 5.5)"
            ]
          },
          "metadata": {},
          "execution_count": 3
        }
      ]
    },
    {
      "cell_type": "code",
      "source": [
        "cliente_2=(\"Maria Rodriguez\",15000,6.0)\n",
        "cliente_2"
      ],
      "metadata": {
        "colab": {
          "base_uri": "https://localhost:8080/"
        },
        "id": "xZpWpne_TIFy",
        "outputId": "62127445-c20c-4e9a-c12a-6cf39eec91dd"
      },
      "execution_count": null,
      "outputs": [
        {
          "output_type": "execute_result",
          "data": {
            "text/plain": [
              "('Maria Rodriguez', 15000, 6.0)"
            ]
          },
          "metadata": {},
          "execution_count": 4
        }
      ]
    },
    {
      "cell_type": "code",
      "source": [
        "cliente_3=(\"Carlos Lopez\",20000,4.0)\n",
        "cliente_3"
      ],
      "metadata": {
        "colab": {
          "base_uri": "https://localhost:8080/"
        },
        "id": "OnpUSnq8TKmj",
        "outputId": "ffd21378-4194-4b24-f9c2-e5a105771fe7"
      },
      "execution_count": null,
      "outputs": [
        {
          "output_type": "execute_result",
          "data": {
            "text/plain": [
              "('Carlos Lopez', 20000, 4.0)"
            ]
          },
          "metadata": {},
          "execution_count": 5
        }
      ]
    },
    {
      "cell_type": "code",
      "source": [
        "cliente_4=(\"Ana Gomez\",18000,7.5)\n",
        "cliente_4"
      ],
      "metadata": {
        "colab": {
          "base_uri": "https://localhost:8080/"
        },
        "id": "Dgs9sIIcTNXW",
        "outputId": "af122fda-6cc4-4fbd-9f99-311478ce7c19"
      },
      "execution_count": null,
      "outputs": [
        {
          "output_type": "execute_result",
          "data": {
            "text/plain": [
              "('Ana Gomez', 18000, 7.5)"
            ]
          },
          "metadata": {},
          "execution_count": 6
        }
      ]
    },
    {
      "cell_type": "markdown",
      "source": [
        "## **Parte 2: Uso de Diccionarios y Condicionales**"
      ],
      "metadata": {
        "id": "pyU4sAvyTVoy"
      }
    },
    {
      "cell_type": "markdown",
      "source": [
        "### **Portafolio**"
      ],
      "metadata": {
        "id": "34sErgqUFAH_"
      }
    },
    {
      "cell_type": "code",
      "source": [
        "portafolio={\n",
        "    \"Juan Perez\":{\"monto_invertido\":10000,\"rendimiento\":5.5},\n",
        "    \"Maria Rodriguez\":{\"monto_invertido\":15000,\"rendimiento\":6.0},\n",
        "    \"Carlos Lopez\":{\"monto_invertido\":20000,\"rendimiento\":4.0},\n",
        "    \"Ana Gomez\":{\"monto_invertido\":18000,\"rendimiento\":7.5}\n",
        "}\n"
      ],
      "metadata": {
        "id": "WoI9MRdeTmPb"
      },
      "execution_count": 6,
      "outputs": []
    },
    {
      "cell_type": "markdown",
      "source": [
        "### **Rendimiento de los clientes mayor a 5%**"
      ],
      "metadata": {
        "id": "7ehlQEHfUTEv"
      }
    },
    {
      "cell_type": "code",
      "source": [
        "for cliente, datos in portafolio.items():\n",
        "    if datos[\"rendimiento\"] > 5:\n",
        "        print(f\"{cliente} tiene un rendimiento de = {datos['rendimiento']}%\")"
      ],
      "metadata": {
        "colab": {
          "base_uri": "https://localhost:8080/"
        },
        "id": "e6U1C-zcUoHw",
        "outputId": "33f4c803-8abb-4451-f47c-c29972b0af86"
      },
      "execution_count": 7,
      "outputs": [
        {
          "output_type": "stream",
          "name": "stdout",
          "text": [
            "Juan Perez tiene un rendimiento de = 5.5%\n",
            "Maria Rodriguez tiene un rendimiento de = 6.0%\n",
            "Ana Gomez tiene un rendimiento de = 7.5%\n"
          ]
        }
      ]
    },
    {
      "cell_type": "markdown",
      "source": [
        "## **Parte 3: Cálculos con Ciclos**"
      ],
      "metadata": {
        "id": "VynyOIrGVDjX"
      }
    },
    {
      "cell_type": "markdown",
      "source": [
        "### **Rendimiento Total del Potafolio**"
      ],
      "metadata": {
        "id": "wY9wpVEcVek6"
      }
    },
    {
      "cell_type": "code",
      "source": [
        "rendimiento_total=0\n",
        "for cliente, datos in portafolio.items():\n",
        "    rendimiento_cliente=(datos[\"monto_invertido\"]*datos[\"rendimiento\"])/100\n",
        "    rendimiento_total+=rendimiento_cliente\n",
        "    print(f\"El rendimiento total del cliente {cliente} es de = {rendimiento_cliente}\")\n",
        "print(f\"El rendimiento total del portafolio es de: $ {rendimiento_total:.2f}\")"
      ],
      "metadata": {
        "colab": {
          "base_uri": "https://localhost:8080/"
        },
        "id": "IPxyIQXyVSj9",
        "outputId": "3a7e87c9-7575-4b14-8f2f-3f3ee680e075"
      },
      "execution_count": 15,
      "outputs": [
        {
          "output_type": "stream",
          "name": "stdout",
          "text": [
            "El rendimiento total del cliente Juan Perez es de = 550.0\n",
            "El rendimiento total del cliente Maria Rodriguez es de = 900.0\n",
            "El rendimiento total del cliente Carlos Lopez es de = 1000.0\n",
            "El rendimiento total del portafolio es de: $ 2450.00\n"
          ]
        }
      ]
    },
    {
      "cell_type": "markdown",
      "source": [
        "### **Cliente con Mayor Rendimiento**"
      ],
      "metadata": {
        "id": "nuGdqNE1ZOnO"
      }
    },
    {
      "cell_type": "code",
      "source": [
        "max_rendimiento = max(portafolio.values(), key=lambda x: x[\"rendimiento\"])[\"rendimiento\"] # Se obtiene el primero el valor de máximo de \"rendimiento\"\n",
        "for cliente, datos in portafolio.items():\n",
        "    if datos[\"rendimiento\"] == max_rendimiento: # Compara el rendimiento con el valor máximo\n",
        "        print(f\"El cliente con mayor rendimiento es {cliente} con un rendimiento de {datos['rendimiento']}%\")"
      ],
      "metadata": {
        "colab": {
          "base_uri": "https://localhost:8080/"
        },
        "id": "8UXlU1Lycgrb",
        "outputId": "13401d41-e115-448e-b9a0-8eb9739dbfad"
      },
      "execution_count": null,
      "outputs": [
        {
          "output_type": "stream",
          "name": "stdout",
          "text": [
            "El cliente con mayor rendimiento es Ana Gomez con un rendimiento de 7.5%\n"
          ]
        }
      ]
    },
    {
      "cell_type": "markdown",
      "source": [
        "## **Parte 4: Modificaciones del Portadolio**"
      ],
      "metadata": {
        "id": "9jIzFTzJdayC"
      }
    },
    {
      "cell_type": "markdown",
      "source": [
        "### **Actualizar el Monto Invertido de Carlos Lopez**"
      ],
      "metadata": {
        "id": "1uGxtIS777p_"
      }
    },
    {
      "cell_type": "code",
      "source": [
        "monto_invertido=25000\n",
        "for cliente, datos in portafolio.items():    # Removed extra space before 'for'\n",
        "    if cliente == \"Carlos Lopez\":\n",
        "        datos[\"monto_invertido\"] = monto_invertido\n",
        "        print(f\"El monto invertido de Carlos Lopez se ha actualizado a $ {monto_invertido}\")"
      ],
      "metadata": {
        "colab": {
          "base_uri": "https://localhost:8080/"
        },
        "id": "LsrymubG9c0T",
        "outputId": "f6007bd4-e8ed-476e-e02f-030e9d3eab28"
      },
      "execution_count": 9,
      "outputs": [
        {
          "output_type": "stream",
          "name": "stdout",
          "text": [
            "El monto invertido de Carlos Lopez se ha actualizado a $ 25000\n"
          ]
        }
      ]
    },
    {
      "cell_type": "markdown",
      "source": [
        "### **Se añade nuevo cliente Ana Gomez**"
      ],
      "metadata": {
        "id": "LYU34Bq0-oCR"
      }
    },
    {
      "cell_type": "code",
      "source": [
        "cliente_nuevo = \"Ana Gomez\"\n",
        "monto_invertido_nuevo = 22000\n",
        "rendimiento_nuevo = 6.8\n",
        "portafolio[cliente_nuevo] = {\"monto_invertido\": monto_invertido_nuevo, \"rendimiento\": rendimiento_nuevo}\n",
        "print(f\"El cliente {cliente_nuevo} ha sido añadido al portafolio con un monto invertido de $ {monto_invertido_nuevo} y con un rendimiento de {rendimiento_nuevo}%.\")"
      ],
      "metadata": {
        "colab": {
          "base_uri": "https://localhost:8080/"
        },
        "id": "7XkFF8H2-xmM",
        "outputId": "1b41aa21-6aef-43e6-d2a5-a18110a67f25"
      },
      "execution_count": 12,
      "outputs": [
        {
          "output_type": "stream",
          "name": "stdout",
          "text": [
            "El cliente Ana Gomez ha sido añadido al portafolio con un monto invertido de $ 22000 y con un rendimiento de 6.8%.\n"
          ]
        }
      ]
    },
    {
      "cell_type": "markdown",
      "source": [
        "### **Se remueve el cliente Ana Gomez**"
      ],
      "metadata": {
        "id": "wnDuJspDAmfr"
      }
    },
    {
      "cell_type": "code",
      "source": [
        "remover_cliente = \"Ana Gomez\"\n",
        "if remover_cliente in portafolio:\n",
        "    del portafolio[remover_cliente]\n",
        "    print(f\"El cliente {remover_cliente} ha sido removido del portafolio.\")"
      ],
      "metadata": {
        "colab": {
          "base_uri": "https://localhost:8080/"
        },
        "id": "HSRuIzgrAsvk",
        "outputId": "cb594782-7273-479b-c62e-38eb4d658bd4"
      },
      "execution_count": 13,
      "outputs": [
        {
          "output_type": "stream",
          "name": "stdout",
          "text": [
            "El cliente Ana Gomez ha sido removido del portafolio.\n"
          ]
        }
      ]
    }
  ]
}