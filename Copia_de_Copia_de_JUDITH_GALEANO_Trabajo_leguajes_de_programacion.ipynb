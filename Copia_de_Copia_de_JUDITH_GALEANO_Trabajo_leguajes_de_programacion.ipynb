{
  "nbformat": 4,
  "nbformat_minor": 0,
  "metadata": {
    "colab": {
      "provenance": []
    },
    "kernelspec": {
      "name": "python3",
      "display_name": "Python 3"
    },
    "language_info": {
      "name": "python"
    }
  },
  "cells": [
    {
      "cell_type": "markdown",
      "source": [
        "# **Valor Presente Neto (VPN)**\n",
        "El VPN es una medida financiera que te permite evaluar la viabilidad de un proyecto, calculando la diferencia entre el valor presente de los flujos de caja futuros y la inversión inicial. Si el VPN es positivo, el proyecto es rentable; si es negativo, no lo es."
      ],
      "metadata": {
        "id": "1gWwQdMPZ2o-"
      }
    },
    {
      "cell_type": "markdown",
      "source": [
        "##**Fórmula:**\n",
        "\\[\n",
        "$$\n",
        "VPN = \\sum_{t=0}^{n} \\frac{C_t}{(1+r)^t} - C_0\n",
        "$$\n",
        "   \n",
        "\\]\n"
      ],
      "metadata": {
        "id": "s3S50_TRiTcc"
      }
    },
    {
      "cell_type": "markdown",
      "source": [
        "###**Ejemplo:**\n",
        "Supongamos que la empresa está considerando un proyecto con una inversión inicial de $15,000 y espera recibir flujos de caja de 5,200 en cada uno de los próximos tres años. La tasa de descuento es del 20%.\n"
      ],
      "metadata": {
        "id": "MBXyVVL1iqc6"
      }
    },
    {
      "cell_type": "markdown",
      "source": [
        "###**Declara las variables**\n",
        "inversion_inicial = 15000\n",
        "flujo_ano1 = 4000\n",
        "flujo_ano2 = 4000\n",
        "flujo_ano3 = 4000\n",
        "flujo_ano4 = 4000\n",
        "tasa_descuento = 0.20\n",
        "\n",
        "#Usamos las variables declaradas para calcular el VPN\n",
        "vpn = (flujo_ano1 / (1 + tasa_descuento)**1) + \\\n",
        "      (flujo_ano2 / (1 + tasa_descuento)**2) + \\\n",
        "      (flujo_ano3 / (1 + tasa_descuento)**3) + \\\n",
        "      (flujo_ano4 / (1 + tasa_descuento)**4) + \\\n",
        "      (flujo_ano5 / (1 + tasa_descuento)**5) - inversion_inicial\n",
        "print(\"El Valor Presente Neto (VPN) es:\", vpn)\n",
        "\n",
        "#interpreta el resultado del VPN para determinar la viabilidad del proyecto:\n",
        "if vpn > 0:\n",
        "    print(\"El proyecto es viable, ya que el VPN es positivo.\")\n",
        "else:\n",
        "    print(\"El proyecto no es viables, ya que el VPN es negativo.\")\n"
      ],
      "metadata": {
        "id": "EU05qPYrkY8c"
      }
    },
    {
      "cell_type": "code",
      "source": [
        "#Declara las variables\n",
        "inversion_inicial = 15000\n",
        "flujo_ano1 = 4000\n",
        "flujo_ano2 = 4000\n",
        "flujo_ano3 = 4000\n",
        "flujo_ano4 = 4000\n",
        "tasa_descuento = 0.20"
      ],
      "metadata": {
        "id": "vzDxUNXmvmBs"
      },
      "execution_count": null,
      "outputs": []
    },
    {
      "cell_type": "code",
      "source": [
        "#Usamos las variables declaradas para calcular el VPN\n",
        "vpn = (flujo_ano1 / (1 + tasa_descuento)**1) + \\\n",
        "      (flujo_ano2 / (1 + tasa_descuento)**2) + \\\n",
        "      (flujo_ano3 / (1 + tasa_descuento)**3) + \\\n",
        "      (flujo_ano4 / (1 + tasa_descuento)**4) - inversion_inicial\n",
        "print(\"El Valor Presente Neto (VPN) es:\", vpn)"
      ],
      "metadata": {
        "colab": {
          "base_uri": "https://localhost:8080/"
        },
        "id": "vofFj7opvmHB",
        "outputId": "c8489b7d-6643-4bbf-9ae7-2614ce9ec126"
      },
      "execution_count": null,
      "outputs": [
        {
          "output_type": "stream",
          "name": "stdout",
          "text": [
            "El Valor Presente Neto (VPN) es: -4645.06172839506\n"
          ]
        }
      ]
    },
    {
      "cell_type": "code",
      "source": [
        "#interpreta el resultado del VPN para determinar la viabilidad del proyecto:\n",
        "if vpn > 0:\n",
        "    print(\"El proyecto es viable, ya que el VPN es positivo.\")\n",
        "else:\n",
        "    print(\"El proyecto no es viables, ya que el VPN es negativo.\")"
      ],
      "metadata": {
        "colab": {
          "base_uri": "https://localhost:8080/"
        },
        "id": "B1XNdz_hvsIy",
        "outputId": "0b677685-3d93-4d61-fb91-3c1260b144da"
      },
      "execution_count": null,
      "outputs": [
        {
          "output_type": "stream",
          "name": "stdout",
          "text": [
            "El proyecto no es viables, ya que el VPN es negativo.\n"
          ]
        }
      ]
    }
  ]
}