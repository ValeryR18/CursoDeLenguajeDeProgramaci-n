{
  "nbformat": 4,
  "nbformat_minor": 0,
  "metadata": {
    "colab": {
      "provenance": [],
      "toc_visible": true
    },
    "kernelspec": {
      "name": "python3",
      "display_name": "Python 3"
    },
    "language_info": {
      "name": "python"
    }
  },
  "cells": [
    {
      "cell_type": "markdown",
      "source": [
        "#**Duración de Macaulay**"
      ],
      "metadata": {
        "id": "0SWeC8tk7W_6"
      }
    },
    {
      "cell_type": "markdown",
      "source": [
        "La duración de Macaulay es el promedio ponderado del tiempo que se tarda en recibir los flujos de efectivo de un bono. Se mide en unidades de años. La duración de Macaulay indica el tiempo promedio ponderado que se debe mantener un bono para que el valor actual total de los flujos de efectivo recibidos sea igual al precio de mercado actual pagado por el bono. Se utiliza a menudo en estrategias de inmunización con bonos."
      ],
      "metadata": {
        "id": "KXvoPbxN79yV"
      }
    },
    {
      "cell_type": "markdown",
      "source": [
        "##**Cómo calcular la duración de Macaulay**"
      ],
      "metadata": {
        "id": "-QNHAEur8Ar0"
      }
    },
    {
      "cell_type": "markdown",
      "source": [
        "En la duración de Macaulay, el tiempo se pondera por el porcentaje del valor actual de cada flujo de efectivo respecto del precio de mercado de un bono. Por lo tanto, se calcula sumando todos los múltiplos de los valores actuales de los flujos de efectivo y los períodos de tiempo correspondientes y luego dividiendo la suma por el precio de mercado del bono.\n",
        "\n"
      ],
      "metadata": {
        "id": "ntoijwl68Udz"
      }
    },
    {
      "cell_type": "markdown",
      "source": [
        "##**Fórmula**"
      ],
      "metadata": {
        "id": "iszv-wh48diB"
      }
    },
    {
      "cell_type": "markdown",
      "source": [
        "\\[\n",
        "\n",
        "$$\n",
        "D = \\frac{\\sum_{t=1}^{n} \\frac{tC} {(1+r)^t} + \\frac{nF} {(1+r)^n}} P\n",
        "$$\n",
        "\n",
        "\\]"
      ],
      "metadata": {
        "id": "Be-HiOPt8Yjf"
      }
    },
    {
      "cell_type": "markdown",
      "source": [
        "Donde:\n",
        "- \\(C\\) es cupón.\n",
        "- \\(F\\) es el Valor nominal del bono.\n",
        "- \\(P) es el Precio del bono.\n",
        "- \\(r\\) es la tasa de descuento.\n",
        "- \\(t\\) es el flujo de caja en el tiempo.\n",
        "- \\(n\\) es el número total de periodos."
      ],
      "metadata": {
        "id": "6FomrZNK8lyV"
      }
    },
    {
      "cell_type": "markdown",
      "source": [
        "##**Interpretación**"
      ],
      "metadata": {
        "id": "MObvq5jG8qqx"
      }
    },
    {
      "cell_type": "markdown",
      "source": [
        "- Si \\(VPN > 0\\), la duracion del bono es rentable.\n",
        "- Si \\(VPN < 0\\), la duracion del bono no es rentable.\n",
        "- Si \\(VPN = 0\\), la duracion del bono es cero."
      ],
      "metadata": {
        "id": "HEpTW7-88ulH"
      }
    },
    {
      "cell_type": "markdown",
      "source": [
        "###**Ejemplo:**"
      ],
      "metadata": {
        "id": "or7G2JCO81Ko"
      }
    },
    {
      "cell_type": "markdown",
      "source": [
        "####**Declaración de variable**"
      ],
      "metadata": {
        "id": "ELw5JNMK87Ng"
      }
    },
    {
      "cell_type": "code",
      "source": [
        "n = 10   # Número de total periodos\n",
        "C = 100  # Cupon en dolares\n",
        "r = 0.05 # Tasa de descuento\n",
        "F = 1000 # Valor nominal del bono en dolares\n",
        "P = 500  # Precio del bono en dolares"
      ],
      "metadata": {
        "id": "7r1f2VEs9Cla"
      },
      "execution_count": 1,
      "outputs": []
    },
    {
      "cell_type": "markdown",
      "source": [
        "####**Calculo de la duración del Bono**"
      ],
      "metadata": {
        "id": "UcmDz5Im9Hg-"
      }
    },
    {
      "cell_type": "code",
      "source": [
        "# Calcular la sumatoria\n",
        "suma = sum((t * C) / ((1 + r) ** t) for t in range(1, n + 1))\n",
        "\n",
        "# Calcular el término final\n",
        "termino_final = (n * F) / ((1 + r) ** n)\n",
        "\n",
        "# Calcular D\n",
        "D = (suma + termino_final) / P\n",
        "\n",
        "print(\"La duración del bono es: \",  D)"
      ],
      "metadata": {
        "colab": {
          "base_uri": "https://localhost:8080/"
        },
        "id": "K-CYP6e4-KnO",
        "outputId": "2921e810-6c0f-4435-bc2e-bec795e6ad9d"
      },
      "execution_count": 2,
      "outputs": [
        {
          "output_type": "stream",
          "name": "stdout",
          "text": [
            "La duración del bono es:  20.153021631761018\n"
          ]
        }
      ]
    },
    {
      "cell_type": "markdown",
      "source": [
        "####**Interpretación del resultado**"
      ],
      "metadata": {
        "id": "WsANP4Wm-cN3"
      }
    },
    {
      "cell_type": "code",
      "source": [
        "if (D > 0):\n",
        "  print(\"El proyecto es viable, ya que el D es positivo\")\n",
        "else:\n",
        "  print(\"El proyecto no es viable, ya que el D es negativo\")"
      ],
      "metadata": {
        "colab": {
          "base_uri": "https://localhost:8080/"
        },
        "id": "fjBv5_1E-hsF",
        "outputId": "90dc2113-efd0-4613-ada2-46c1ace679c7"
      },
      "execution_count": 3,
      "outputs": [
        {
          "output_type": "stream",
          "name": "stdout",
          "text": [
            "El proyecto es viable, ya que el D es positivo\n"
          ]
        }
      ]
    }
  ]
}